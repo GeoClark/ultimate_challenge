{
 "cells": [
  {
   "cell_type": "markdown",
   "id": "cc490a01",
   "metadata": {},
   "source": [
    "# Ultimate data challenge\n",
    "\n",
    "## Part 1 ‐ Exploratory data analysis\n",
    "The attached logins.json file contains (simulated) timestamps of user logins in a particular\n",
    "geographic location. Aggregate these login counts based on 15minute time intervals, and\n",
    "visualize and describe the resulting time series of login counts in ways that best characterize the\n",
    "underlying patterns of the demand. Please report/illustrate important features of the demand,\n",
    "such as daily cycles. If there are data quality issues, please report them.\n",
    "\n"
   ]
  },
  {
   "cell_type": "code",
   "execution_count": 284,
   "id": "3955b5ac",
   "metadata": {},
   "outputs": [],
   "source": [
    "# load libraries\n",
    "import pandas as pd\n",
    "import datetime\n",
    "from pandas.tseries.holiday import USFederalHolidayCalendar as calendar # get holidays\n",
    "import matplotlib.pyplot as plt\n",
    "import seaborn as sns\n",
    "import datetime\n",
    "import numpy as np\n",
    "\n",
    "import shap"
   ]
  },
  {
   "cell_type": "code",
   "execution_count": 205,
   "id": "422064a5",
   "metadata": {
    "scrolled": true
   },
   "outputs": [
    {
     "data": {
      "text/html": [
       "<div>\n",
       "<style scoped>\n",
       "    .dataframe tbody tr th:only-of-type {\n",
       "        vertical-align: middle;\n",
       "    }\n",
       "\n",
       "    .dataframe tbody tr th {\n",
       "        vertical-align: top;\n",
       "    }\n",
       "\n",
       "    .dataframe thead th {\n",
       "        text-align: right;\n",
       "    }\n",
       "</style>\n",
       "<table border=\"1\" class=\"dataframe\">\n",
       "  <thead>\n",
       "    <tr style=\"text-align: right;\">\n",
       "      <th></th>\n",
       "      <th>login_time</th>\n",
       "    </tr>\n",
       "  </thead>\n",
       "  <tbody>\n",
       "    <tr>\n",
       "      <th>0</th>\n",
       "      <td>1970-01-01 20:13:18</td>\n",
       "    </tr>\n",
       "    <tr>\n",
       "      <th>1</th>\n",
       "      <td>1970-01-01 20:16:10</td>\n",
       "    </tr>\n",
       "    <tr>\n",
       "      <th>2</th>\n",
       "      <td>1970-01-01 20:16:37</td>\n",
       "    </tr>\n",
       "    <tr>\n",
       "      <th>3</th>\n",
       "      <td>1970-01-01 20:16:36</td>\n",
       "    </tr>\n",
       "    <tr>\n",
       "      <th>4</th>\n",
       "      <td>1970-01-01 20:26:21</td>\n",
       "    </tr>\n",
       "  </tbody>\n",
       "</table>\n",
       "</div>"
      ],
      "text/plain": [
       "           login_time\n",
       "0 1970-01-01 20:13:18\n",
       "1 1970-01-01 20:16:10\n",
       "2 1970-01-01 20:16:37\n",
       "3 1970-01-01 20:16:36\n",
       "4 1970-01-01 20:26:21"
      ]
     },
     "execution_count": 205,
     "metadata": {},
     "output_type": "execute_result"
    }
   ],
   "source": [
    "# load Json data\n",
    "\n",
    "\n",
    "logins = pd.read_json('logins.json')\n",
    "\n",
    "\n",
    "\n",
    "logins.head()\n",
    "\n",
    "#logins.head()"
   ]
  },
  {
   "cell_type": "code",
   "execution_count": 206,
   "id": "c7257f1f",
   "metadata": {},
   "outputs": [],
   "source": [
    "#aggregate into 15 minute timepoints"
   ]
  },
  {
   "cell_type": "code",
   "execution_count": 207,
   "id": "c8c7f9f9",
   "metadata": {},
   "outputs": [
    {
     "name": "stdout",
     "output_type": "stream",
     "text": [
      "<class 'pandas.core.frame.DataFrame'>\n",
      "RangeIndex: 93142 entries, 0 to 93141\n",
      "Data columns (total 1 columns):\n",
      " #   Column      Non-Null Count  Dtype         \n",
      "---  ------      --------------  -----         \n",
      " 0   login_time  93142 non-null  datetime64[ns]\n",
      "dtypes: datetime64[ns](1)\n",
      "memory usage: 727.8 KB\n"
     ]
    }
   ],
   "source": [
    "logins.info()"
   ]
  },
  {
   "cell_type": "code",
   "execution_count": 208,
   "id": "2bf64d17",
   "metadata": {},
   "outputs": [],
   "source": [
    "logins.set_index(\"login_time\", inplace=True)\n",
    "\n",
    "logins['frequency']= 1"
   ]
  },
  {
   "cell_type": "code",
   "execution_count": 209,
   "id": "e7a6251f",
   "metadata": {},
   "outputs": [
    {
     "data": {
      "text/html": [
       "<div>\n",
       "<style scoped>\n",
       "    .dataframe tbody tr th:only-of-type {\n",
       "        vertical-align: middle;\n",
       "    }\n",
       "\n",
       "    .dataframe tbody tr th {\n",
       "        vertical-align: top;\n",
       "    }\n",
       "\n",
       "    .dataframe thead th {\n",
       "        text-align: right;\n",
       "    }\n",
       "</style>\n",
       "<table border=\"1\" class=\"dataframe\">\n",
       "  <thead>\n",
       "    <tr style=\"text-align: right;\">\n",
       "      <th></th>\n",
       "      <th>login_time</th>\n",
       "      <th>frequency</th>\n",
       "    </tr>\n",
       "  </thead>\n",
       "  <tbody>\n",
       "    <tr>\n",
       "      <th>0</th>\n",
       "      <td>1970-01-01 20:00:00</td>\n",
       "      <td>2</td>\n",
       "    </tr>\n",
       "    <tr>\n",
       "      <th>1</th>\n",
       "      <td>1970-01-01 20:15:00</td>\n",
       "      <td>6</td>\n",
       "    </tr>\n",
       "    <tr>\n",
       "      <th>2</th>\n",
       "      <td>1970-01-01 20:30:00</td>\n",
       "      <td>9</td>\n",
       "    </tr>\n",
       "    <tr>\n",
       "      <th>3</th>\n",
       "      <td>1970-01-01 20:45:00</td>\n",
       "      <td>7</td>\n",
       "    </tr>\n",
       "    <tr>\n",
       "      <th>4</th>\n",
       "      <td>1970-01-01 21:00:00</td>\n",
       "      <td>1</td>\n",
       "    </tr>\n",
       "  </tbody>\n",
       "</table>\n",
       "</div>"
      ],
      "text/plain": [
       "           login_time  frequency\n",
       "0 1970-01-01 20:00:00          2\n",
       "1 1970-01-01 20:15:00          6\n",
       "2 1970-01-01 20:30:00          9\n",
       "3 1970-01-01 20:45:00          7\n",
       "4 1970-01-01 21:00:00          1"
      ]
     },
     "execution_count": 209,
     "metadata": {},
     "output_type": "execute_result"
    }
   ],
   "source": [
    "# bucket by 5 minutes\n",
    "logins_15min = logins.resample(\"15min\").sum()\n",
    "logins_15min.reset_index(inplace=True)\n",
    "\n",
    "logins_15min.head()\n",
    "\n"
   ]
  },
  {
   "cell_type": "code",
   "execution_count": 210,
   "id": "cadaf9d8",
   "metadata": {},
   "outputs": [],
   "source": [
    "login_features=logins_15min"
   ]
  },
  {
   "cell_type": "code",
   "execution_count": 211,
   "id": "4f158cb7",
   "metadata": {},
   "outputs": [
    {
     "data": {
      "text/html": [
       "<div>\n",
       "<style scoped>\n",
       "    .dataframe tbody tr th:only-of-type {\n",
       "        vertical-align: middle;\n",
       "    }\n",
       "\n",
       "    .dataframe tbody tr th {\n",
       "        vertical-align: top;\n",
       "    }\n",
       "\n",
       "    .dataframe thead th {\n",
       "        text-align: right;\n",
       "    }\n",
       "</style>\n",
       "<table border=\"1\" class=\"dataframe\">\n",
       "  <thead>\n",
       "    <tr style=\"text-align: right;\">\n",
       "      <th></th>\n",
       "      <th>login_time</th>\n",
       "      <th>frequency</th>\n",
       "      <th>day_of_week</th>\n",
       "      <th>weekend</th>\n",
       "      <th>holiday</th>\n",
       "      <th>hour</th>\n",
       "    </tr>\n",
       "  </thead>\n",
       "  <tbody>\n",
       "    <tr>\n",
       "      <th>0</th>\n",
       "      <td>1970-01-01 20:00:00</td>\n",
       "      <td>2</td>\n",
       "      <td>3</td>\n",
       "      <td>0.0</td>\n",
       "      <td>False</td>\n",
       "      <td>20</td>\n",
       "    </tr>\n",
       "    <tr>\n",
       "      <th>1</th>\n",
       "      <td>1970-01-01 20:15:00</td>\n",
       "      <td>6</td>\n",
       "      <td>3</td>\n",
       "      <td>0.0</td>\n",
       "      <td>False</td>\n",
       "      <td>20</td>\n",
       "    </tr>\n",
       "    <tr>\n",
       "      <th>2</th>\n",
       "      <td>1970-01-01 20:30:00</td>\n",
       "      <td>9</td>\n",
       "      <td>3</td>\n",
       "      <td>0.0</td>\n",
       "      <td>False</td>\n",
       "      <td>20</td>\n",
       "    </tr>\n",
       "    <tr>\n",
       "      <th>3</th>\n",
       "      <td>1970-01-01 20:45:00</td>\n",
       "      <td>7</td>\n",
       "      <td>3</td>\n",
       "      <td>0.0</td>\n",
       "      <td>False</td>\n",
       "      <td>20</td>\n",
       "    </tr>\n",
       "    <tr>\n",
       "      <th>4</th>\n",
       "      <td>1970-01-01 21:00:00</td>\n",
       "      <td>1</td>\n",
       "      <td>3</td>\n",
       "      <td>0.0</td>\n",
       "      <td>False</td>\n",
       "      <td>21</td>\n",
       "    </tr>\n",
       "  </tbody>\n",
       "</table>\n",
       "</div>"
      ],
      "text/plain": [
       "           login_time  frequency  day_of_week  weekend  holiday  hour\n",
       "0 1970-01-01 20:00:00          2            3      0.0    False    20\n",
       "1 1970-01-01 20:15:00          6            3      0.0    False    20\n",
       "2 1970-01-01 20:30:00          9            3      0.0    False    20\n",
       "3 1970-01-01 20:45:00          7            3      0.0    False    20\n",
       "4 1970-01-01 21:00:00          1            3      0.0    False    21"
      ]
     },
     "execution_count": 211,
     "metadata": {},
     "output_type": "execute_result"
    }
   ],
   "source": [
    "#calculate day of week number (0 = Monday, 6= Sunday)\n",
    "login_features['day_of_week']=login_features['login_time'].dt.day_of_week\n",
    "\n",
    "# designate weekend ()\n",
    "login_features.loc[login_features['day_of_week'] >=5, 'weekend'] = 1 \n",
    "login_features.loc[login_features['day_of_week'] <5, 'weekend'] = 0 \n",
    "\n",
    "\n",
    "# mark American holidays. Note that holidays that fall on weekedns are applied in the preceding or proceeding week.\n",
    "\n",
    "\n",
    "cal = calendar()\n",
    "holidays = cal.holidays(start=login_features['login_time'].min(),\n",
    "                        end=login_features['login_time'].max()).to_pydatetime()\n",
    "\n",
    "#designate which days are holidays\n",
    "login_features['holiday'] = login_features['login_time'].isin(holidays)\n",
    "\n",
    "login_features['hour']=login_features['login_time'].dt.hour\n",
    "\n",
    "\n",
    "\n",
    "#check that tables look good by printing the first few rows.\n",
    "login_features.head()"
   ]
  },
  {
   "cell_type": "code",
   "execution_count": 212,
   "id": "346c8f51",
   "metadata": {},
   "outputs": [
    {
     "data": {
      "text/html": [
       "<div>\n",
       "<style scoped>\n",
       "    .dataframe tbody tr th:only-of-type {\n",
       "        vertical-align: middle;\n",
       "    }\n",
       "\n",
       "    .dataframe tbody tr th {\n",
       "        vertical-align: top;\n",
       "    }\n",
       "\n",
       "    .dataframe thead th {\n",
       "        text-align: right;\n",
       "    }\n",
       "</style>\n",
       "<table border=\"1\" class=\"dataframe\">\n",
       "  <thead>\n",
       "    <tr style=\"text-align: right;\">\n",
       "      <th></th>\n",
       "      <th>frequency</th>\n",
       "      <th>day_of_week</th>\n",
       "      <th>weekend</th>\n",
       "      <th>hour</th>\n",
       "    </tr>\n",
       "  </thead>\n",
       "  <tbody>\n",
       "    <tr>\n",
       "      <th>count</th>\n",
       "      <td>9788.000000</td>\n",
       "      <td>9788.000000</td>\n",
       "      <td>9788.000000</td>\n",
       "      <td>9788.000000</td>\n",
       "    </tr>\n",
       "    <tr>\n",
       "      <th>mean</th>\n",
       "      <td>9.515938</td>\n",
       "      <td>3.035554</td>\n",
       "      <td>0.294238</td>\n",
       "      <td>11.496935</td>\n",
       "    </tr>\n",
       "    <tr>\n",
       "      <th>std</th>\n",
       "      <td>8.328818</td>\n",
       "      <td>2.012722</td>\n",
       "      <td>0.455723</td>\n",
       "      <td>6.922294</td>\n",
       "    </tr>\n",
       "    <tr>\n",
       "      <th>min</th>\n",
       "      <td>0.000000</td>\n",
       "      <td>0.000000</td>\n",
       "      <td>0.000000</td>\n",
       "      <td>0.000000</td>\n",
       "    </tr>\n",
       "    <tr>\n",
       "      <th>25%</th>\n",
       "      <td>3.000000</td>\n",
       "      <td>1.000000</td>\n",
       "      <td>0.000000</td>\n",
       "      <td>5.000000</td>\n",
       "    </tr>\n",
       "    <tr>\n",
       "      <th>50%</th>\n",
       "      <td>7.000000</td>\n",
       "      <td>3.000000</td>\n",
       "      <td>0.000000</td>\n",
       "      <td>11.000000</td>\n",
       "    </tr>\n",
       "    <tr>\n",
       "      <th>75%</th>\n",
       "      <td>13.000000</td>\n",
       "      <td>5.000000</td>\n",
       "      <td>1.000000</td>\n",
       "      <td>17.000000</td>\n",
       "    </tr>\n",
       "    <tr>\n",
       "      <th>max</th>\n",
       "      <td>73.000000</td>\n",
       "      <td>6.000000</td>\n",
       "      <td>1.000000</td>\n",
       "      <td>23.000000</td>\n",
       "    </tr>\n",
       "  </tbody>\n",
       "</table>\n",
       "</div>"
      ],
      "text/plain": [
       "         frequency  day_of_week      weekend         hour\n",
       "count  9788.000000  9788.000000  9788.000000  9788.000000\n",
       "mean      9.515938     3.035554     0.294238    11.496935\n",
       "std       8.328818     2.012722     0.455723     6.922294\n",
       "min       0.000000     0.000000     0.000000     0.000000\n",
       "25%       3.000000     1.000000     0.000000     5.000000\n",
       "50%       7.000000     3.000000     0.000000    11.000000\n",
       "75%      13.000000     5.000000     1.000000    17.000000\n",
       "max      73.000000     6.000000     1.000000    23.000000"
      ]
     },
     "execution_count": 212,
     "metadata": {},
     "output_type": "execute_result"
    }
   ],
   "source": [
    "login_features.describe()"
   ]
  },
  {
   "cell_type": "code",
   "execution_count": 213,
   "id": "c5a75546",
   "metadata": {},
   "outputs": [
    {
     "data": {
      "image/png": "[encoded data removed]",
      "text/plain": [
       "<Figure size 1152x360 with 1 Axes>"
      ]
     },
     "metadata": {},
     "output_type": "display_data"
    }
   ],
   "source": [
    "# create time series plots\n",
    "import seaborn as sns\n",
    "sns.lineplot(data=login_features, x=\"login_time\", y=\"frequency\")\n",
    "sns.set(rc = {'figure.figsize':(16,5)})"
   ]
  },
  {
   "cell_type": "code",
   "execution_count": 214,
   "id": "48447331",
   "metadata": {},
   "outputs": [
    {
     "data": {
      "text/plain": [
       "<AxesSubplot:xlabel='day_of_week', ylabel='frequency'>"
      ]
     },
     "execution_count": 214,
     "metadata": {},
     "output_type": "execute_result"
    },
    {
     "data": {
      "image/png": "[encoded data removed]",
      "text/plain": [
       "<Figure size 1152x360 with 1 Axes>"
      ]
     },
     "metadata": {},
     "output_type": "display_data"
    }
   ],
   "source": [
    "# boxplots\n",
    "sns.boxplot(data=login_features, x=\"day_of_week\", y=\"frequency\")\n",
    "\n"
   ]
  },
  {
   "cell_type": "code",
   "execution_count": 215,
   "id": "974b075e",
   "metadata": {},
   "outputs": [
    {
     "data": {
      "text/plain": [
       "<AxesSubplot:xlabel='hour', ylabel='frequency'>"
      ]
     },
     "execution_count": 215,
     "metadata": {},
     "output_type": "execute_result"
    },
    {
     "data": {
      "image/png": "[encoded data removed]",
      "text/plain": [
       "<Figure size 1152x360 with 1 Axes>"
      ]
     },
     "metadata": {},
     "output_type": "display_data"
    }
   ],
   "source": [
    "sns.boxplot(data=login_features, x=\"hour\", y=\"frequency\")\n"
   ]
  },
  {
   "cell_type": "code",
   "execution_count": 216,
   "id": "5e660ca1",
   "metadata": {},
   "outputs": [
    {
     "data": {
      "text/plain": [
       "<AxesSubplot:xlabel='weekend', ylabel='frequency'>"
      ]
     },
     "execution_count": 216,
     "metadata": {},
     "output_type": "execute_result"
    },
    {
     "data": {
      "image/png": "[encoded data removed]",
      "text/plain": [
       "<Figure size 1152x360 with 1 Axes>"
      ]
     },
     "metadata": {},
     "output_type": "display_data"
    }
   ],
   "source": [
    "sns.boxplot(data=login_features, x=\"weekend\", y=\"frequency\")\n"
   ]
  },
  {
   "cell_type": "code",
   "execution_count": 217,
   "id": "2ad251e2",
   "metadata": {},
   "outputs": [
    {
     "data": {
      "text/plain": [
       "<AxesSubplot:xlabel='holiday', ylabel='frequency'>"
      ]
     },
     "execution_count": 217,
     "metadata": {},
     "output_type": "execute_result"
    },
    {
     "data": {
      "image/png": "[encoded data removed]",
      "text/plain": [
       "<Figure size 1152x360 with 1 Axes>"
      ]
     },
     "metadata": {},
     "output_type": "display_data"
    }
   ],
   "source": [
    "sns.boxplot(data=login_features, x=\"holiday\", y=\"frequency\")\n"
   ]
  },
  {
   "cell_type": "code",
   "execution_count": 218,
   "id": "1b58981d",
   "metadata": {},
   "outputs": [
    {
     "data": {
      "text/html": [
       "<div>\n",
       "<style scoped>\n",
       "    .dataframe tbody tr th:only-of-type {\n",
       "        vertical-align: middle;\n",
       "    }\n",
       "\n",
       "    .dataframe tbody tr th {\n",
       "        vertical-align: top;\n",
       "    }\n",
       "\n",
       "    .dataframe thead th {\n",
       "        text-align: right;\n",
       "    }\n",
       "</style>\n",
       "<table border=\"1\" class=\"dataframe\">\n",
       "  <thead>\n",
       "    <tr style=\"text-align: right;\">\n",
       "      <th>hour</th>\n",
       "      <th>0</th>\n",
       "      <th>1</th>\n",
       "      <th>2</th>\n",
       "      <th>3</th>\n",
       "      <th>4</th>\n",
       "      <th>5</th>\n",
       "      <th>6</th>\n",
       "      <th>7</th>\n",
       "      <th>8</th>\n",
       "      <th>9</th>\n",
       "      <th>...</th>\n",
       "      <th>15</th>\n",
       "      <th>16</th>\n",
       "      <th>17</th>\n",
       "      <th>18</th>\n",
       "      <th>19</th>\n",
       "      <th>20</th>\n",
       "      <th>21</th>\n",
       "      <th>22</th>\n",
       "      <th>23</th>\n",
       "      <th>All</th>\n",
       "    </tr>\n",
       "    <tr>\n",
       "      <th>day_of_week</th>\n",
       "      <th></th>\n",
       "      <th></th>\n",
       "      <th></th>\n",
       "      <th></th>\n",
       "      <th></th>\n",
       "      <th></th>\n",
       "      <th></th>\n",
       "      <th></th>\n",
       "      <th></th>\n",
       "      <th></th>\n",
       "      <th></th>\n",
       "      <th></th>\n",
       "      <th></th>\n",
       "      <th></th>\n",
       "      <th></th>\n",
       "      <th></th>\n",
       "      <th></th>\n",
       "      <th></th>\n",
       "      <th></th>\n",
       "      <th></th>\n",
       "      <th></th>\n",
       "    </tr>\n",
       "  </thead>\n",
       "  <tbody>\n",
       "    <tr>\n",
       "      <th>0</th>\n",
       "      <td>8.850000</td>\n",
       "      <td>6.900000</td>\n",
       "      <td>5.200000</td>\n",
       "      <td>3.933333</td>\n",
       "      <td>3.433333</td>\n",
       "      <td>2.016667</td>\n",
       "      <td>1.100000</td>\n",
       "      <td>1.850000</td>\n",
       "      <td>2.450000</td>\n",
       "      <td>4.266667</td>\n",
       "      <td>...</td>\n",
       "      <td>4.883333</td>\n",
       "      <td>4.150000</td>\n",
       "      <td>3.966667</td>\n",
       "      <td>4.450000</td>\n",
       "      <td>4.678571</td>\n",
       "      <td>6.714286</td>\n",
       "      <td>10.803571</td>\n",
       "      <td>10.910714</td>\n",
       "      <td>9.500000</td>\n",
       "      <td>6.213380</td>\n",
       "    </tr>\n",
       "    <tr>\n",
       "      <th>1</th>\n",
       "      <td>10.839286</td>\n",
       "      <td>10.107143</td>\n",
       "      <td>7.035714</td>\n",
       "      <td>3.535714</td>\n",
       "      <td>2.660714</td>\n",
       "      <td>2.017857</td>\n",
       "      <td>0.821429</td>\n",
       "      <td>1.142857</td>\n",
       "      <td>1.571429</td>\n",
       "      <td>4.321429</td>\n",
       "      <td>...</td>\n",
       "      <td>4.410714</td>\n",
       "      <td>3.910714</td>\n",
       "      <td>3.267857</td>\n",
       "      <td>5.410714</td>\n",
       "      <td>5.375000</td>\n",
       "      <td>8.714286</td>\n",
       "      <td>12.571429</td>\n",
       "      <td>13.535714</td>\n",
       "      <td>12.928571</td>\n",
       "      <td>6.895833</td>\n",
       "    </tr>\n",
       "    <tr>\n",
       "      <th>2</th>\n",
       "      <td>12.267857</td>\n",
       "      <td>12.250000</td>\n",
       "      <td>8.607143</td>\n",
       "      <td>5.339286</td>\n",
       "      <td>4.375000</td>\n",
       "      <td>2.410714</td>\n",
       "      <td>0.857143</td>\n",
       "      <td>1.500000</td>\n",
       "      <td>1.767857</td>\n",
       "      <td>4.285714</td>\n",
       "      <td>...</td>\n",
       "      <td>4.696429</td>\n",
       "      <td>3.821429</td>\n",
       "      <td>3.428571</td>\n",
       "      <td>5.125000</td>\n",
       "      <td>5.464286</td>\n",
       "      <td>8.928571</td>\n",
       "      <td>13.196429</td>\n",
       "      <td>15.803571</td>\n",
       "      <td>16.214286</td>\n",
       "      <td>7.692708</td>\n",
       "    </tr>\n",
       "    <tr>\n",
       "      <th>3</th>\n",
       "      <td>14.571429</td>\n",
       "      <td>13.875000</td>\n",
       "      <td>11.160714</td>\n",
       "      <td>6.696429</td>\n",
       "      <td>4.553571</td>\n",
       "      <td>2.428571</td>\n",
       "      <td>1.196429</td>\n",
       "      <td>1.446429</td>\n",
       "      <td>1.696429</td>\n",
       "      <td>4.482143</td>\n",
       "      <td>...</td>\n",
       "      <td>5.000000</td>\n",
       "      <td>4.321429</td>\n",
       "      <td>4.142857</td>\n",
       "      <td>6.267857</td>\n",
       "      <td>7.000000</td>\n",
       "      <td>10.366667</td>\n",
       "      <td>14.500000</td>\n",
       "      <td>18.150000</td>\n",
       "      <td>17.216667</td>\n",
       "      <td>8.794118</td>\n",
       "    </tr>\n",
       "    <tr>\n",
       "      <th>4</th>\n",
       "      <td>16.250000</td>\n",
       "      <td>15.950000</td>\n",
       "      <td>12.850000</td>\n",
       "      <td>8.366667</td>\n",
       "      <td>5.883333</td>\n",
       "      <td>4.083333</td>\n",
       "      <td>2.016667</td>\n",
       "      <td>1.750000</td>\n",
       "      <td>1.816667</td>\n",
       "      <td>4.000000</td>\n",
       "      <td>...</td>\n",
       "      <td>6.500000</td>\n",
       "      <td>6.200000</td>\n",
       "      <td>8.000000</td>\n",
       "      <td>9.616667</td>\n",
       "      <td>10.966667</td>\n",
       "      <td>13.383333</td>\n",
       "      <td>20.100000</td>\n",
       "      <td>25.316667</td>\n",
       "      <td>21.633333</td>\n",
       "      <td>10.561111</td>\n",
       "    </tr>\n",
       "  </tbody>\n",
       "</table>\n",
       "<p>5 rows × 25 columns</p>\n",
       "</div>"
      ],
      "text/plain": [
       "hour                 0          1          2         3         4         5  \\\n",
       "day_of_week                                                                  \n",
       "0             8.850000   6.900000   5.200000  3.933333  3.433333  2.016667   \n",
       "1            10.839286  10.107143   7.035714  3.535714  2.660714  2.017857   \n",
       "2            12.267857  12.250000   8.607143  5.339286  4.375000  2.410714   \n",
       "3            14.571429  13.875000  11.160714  6.696429  4.553571  2.428571   \n",
       "4            16.250000  15.950000  12.850000  8.366667  5.883333  4.083333   \n",
       "\n",
       "hour                6         7         8         9  ...        15        16  \\\n",
       "day_of_week                                          ...                       \n",
       "0            1.100000  1.850000  2.450000  4.266667  ...  4.883333  4.150000   \n",
       "1            0.821429  1.142857  1.571429  4.321429  ...  4.410714  3.910714   \n",
       "2            0.857143  1.500000  1.767857  4.285714  ...  4.696429  3.821429   \n",
       "3            1.196429  1.446429  1.696429  4.482143  ...  5.000000  4.321429   \n",
       "4            2.016667  1.750000  1.816667  4.000000  ...  6.500000  6.200000   \n",
       "\n",
       "hour               17        18         19         20         21         22  \\\n",
       "day_of_week                                                                   \n",
       "0            3.966667  4.450000   4.678571   6.714286  10.803571  10.910714   \n",
       "1            3.267857  5.410714   5.375000   8.714286  12.571429  13.535714   \n",
       "2            3.428571  5.125000   5.464286   8.928571  13.196429  15.803571   \n",
       "3            4.142857  6.267857   7.000000  10.366667  14.500000  18.150000   \n",
       "4            8.000000  9.616667  10.966667  13.383333  20.100000  25.316667   \n",
       "\n",
       "hour                23        All  \n",
       "day_of_week                        \n",
       "0             9.500000   6.213380  \n",
       "1            12.928571   6.895833  \n",
       "2            16.214286   7.692708  \n",
       "3            17.216667   8.794118  \n",
       "4            21.633333  10.561111  \n",
       "\n",
       "[5 rows x 25 columns]"
      ]
     },
     "execution_count": 218,
     "metadata": {},
     "output_type": "execute_result"
    }
   ],
   "source": [
    "all_hours_day_df = pd.pivot_table(data= login_features[['frequency', 'day_of_week', 'hour']], \n",
    "                                  values=\"frequency\",\n",
    "                                   index=\"day_of_week\",\n",
    "                                  columns=\"hour\",\n",
    "                                  margins=True\n",
    "                                 )\n",
    "                                  \n",
    "# averages for pickups in 15min intervals by hour and day of week                                   )\n",
    "all_hours_day_df.head()"
   ]
  },
  {
   "cell_type": "code",
   "execution_count": 219,
   "id": "efcbd642",
   "metadata": {},
   "outputs": [
    {
     "data": {
      "image/png": "[encoded data removed]",
      "text/plain": [
       "<Figure size 1152x360 with 2 Axes>"
      ]
     },
     "metadata": {},
     "output_type": "display_data"
    }
   ],
   "source": [
    "# Plot mean 15 min pickups per 15min intervals\n",
    "\n",
    "ax = sns.heatmap(all_hours_day_df, cmap='RdYlGn_r',\n",
    "                 robust=True,\n",
    "                 fmt='.2f',\n",
    "                 annot=False,\n",
    "                 linewidths=.5,\n",
    "                 annot_kws={'size':8},\n",
    "                 cbar_kws={'shrink':.8,\n",
    "                           'label':'pickups per 15 min interval'})                       \n",
    "    \n",
    "ax.set_yticklabels(ax.get_yticklabels(), rotation=0, fontsize=10)\n",
    "ax.set_xticklabels(ax.get_xticklabels(), rotation=0, fontsize=10)\n",
    "plt.title('Average logins per 15 min ', fontdict={'fontsize':18},    pad=14);"
   ]
  },
  {
   "cell_type": "markdown",
   "id": "e698a4cf",
   "metadata": {},
   "source": [
    "## Observations\n",
    "\n",
    "User login data were analyzed for a 3 month period in the Winter and Spring of 1970.\n",
    "logins were aggregated into 15 minute intervals.  Logins are highly cyclical as a function of the time of day and day of week. The highest average frequency during the week is around lunch (11:00-12:00) and in the late evening (10:00-2:00). On Friday evening there's a surge at 10:00 pm and a high number of rides in the early  morning until about 5:00 am.  Overall data seem in good shape despite some extreme weekend values. "
   ]
  },
  {
   "cell_type": "markdown",
   "id": "a71b7bd2",
   "metadata": {},
   "source": [
    "## Part 2 ‐ Experiment and metrics design\n",
    "The neighboring cities of Gotham and Metropolis have complementary circadian rhythms: on\n",
    "weekdays, Ultimate Gotham is most active at night, and Ultimate Metropolis is most active\n",
    "during the day. On weekends, there is reasonable activity in both cities.\n",
    "However, a toll bridge, with a two way toll, between the two cities causes driver partners to tend\n",
    "to be exclusive to each city. The Ultimate managers of city operations for the two cities have\n",
    "proposed an experiment to encourage driver partners to be available in both cities, by\n",
    "reimbursing all toll costs.\n",
    "### 1) What would you choose as the key measure of success of this experiment in encouraging driver partners to serve both cities, and why would you choose this metric?\n",
    "\n",
    "The purpose of this experiment is to examine what effect lifting the tolls will have on drivers choosing to operate in either city. On weekdays the two cities have inverted schedules that create surplus capacity at night in Metropolis that is needed in Gotham and surplus capacity during the day in Gotham that could be used in Metropolis.  The hypothesis is that drivers are typically staying in their own city due to tolls on connecting bridges.  It is feasible that there are multiple barriers to entry that limit dual-city drivers.\n",
    "\n",
    "The key measure for this experiment should be the proportion or total number of drivers who modify their behavior and service both cities.  This measurment isn't senstive to the total fares or total miles driven but instead will allow the team to isolate the effect of the toll on driver behavior.\n",
    "\n",
    "\n",
    "### 2) Describe a practical experiment you would design to compare the effectiveness of the proposed change in relation to the key measure of success. Please provide details on:\n",
    "\n",
    "#### a) how you will implement the experiment\n",
    "\n",
    "In order to isolate the effect of tolls have on driver behavior we propose a randomized control test with two groups.   We are interested in understanding the effect of tolls on driver behavior.  The experiment requires that we randomly divide a proportion of app users into two groups. \n",
    "1. The first group will be our control, they will be offered riders in both their town and across the bridge.  The two offered drivers will be similar driving times away to control for a preference for proximity.  This group won't be reimbursed for tolls.\n",
    "\n",
    "2. The second group similar to the the first group will be offered riders in both their town and across the bridge.  The two offered drivers will be similar driving times away to control for a preference for proximity.  This group will be reimbursed for tolls.\n",
    "\n",
    "The experiment would need to be run across multiple times of day and days of the week to control for the inverted patterns in peak travel for the two cities.\n",
    "\n",
    "\n",
    "#### b) what statistical test(s) you will conduct to verify the significance of theobservation\n",
    "\n",
    "We would track the proportion of users in each group that opted to cross the bridge in the control (A) and the test (B) group.  We are interested in determining if the test repsonse is higher or lower on average so we will conduct a two-sided t-test.  We are concerned about falsely rejecting the null hypothesis and recommend an alpha of .02.\n",
    "The hypothesis of our study is that the test group that is compensated for tolls will have a greater proportion of drivers opt to cross-over the bridge to the other city and that this difference will have a p-value <.02.\n",
    "\n",
    "#### c) how you would interpret the results and provide recommendations to the city operations team along with any caveats\n",
    "If the randomized control test determines that the test group indeed travelled over the bridge more frequently we can conclude that the toll did provide a barrier.  In this case the company can evaluate the economics of providing toll vouchers. It is possible that the company could recoup the cost of tolls by gaining a larger proportion of market share in the opposite city.\n",
    "\n",
    "If we fail to reject the null hypothesis than we cannot conclude that the toll is the cause of drivers opting to remain on one side of the bridge. it is possible that other reasons could be influencing the decision. For example, driver familiarity with each city, scheduling ocnstraints for other commitments, or a bias for local rides.  These other caveats can be evaluated with additional testing if there's a business justification.\n"
   ]
  },
  {
   "cell_type": "code",
   "execution_count": null,
   "id": "14753d96",
   "metadata": {},
   "outputs": [],
   "source": []
  },
  {
   "cell_type": "markdown",
   "id": "cb3da63e",
   "metadata": {},
   "source": [
    "# Part 3 ‐ Predictive modeling\n",
    "Ultimate is interested in predicting rider retention. To help explore this question, we have\n",
    "provided a sample dataset of a cohort of users who signed up for an Ultimate account in\n",
    "January 2014. The data was pulled several months later; we consider a user retained if they\n",
    "were “active” (i.e. took a trip) in the preceding 30 days.\n",
    "We would like you to use this data set to help understand what factors are the best predictors\n",
    "for retention, and offer suggestions to operationalize those insights to help Ultimate.\n",
    "The data is in the attached file ultimate_data_challenge.json. See below for a detailed\n",
    "description of the dataset. Please include any code you wrote for the analysis and delete the\n",
    "dataset when you have finished with the challenge.\n",
    "1. Perform any cleaning, exploratory analysis, and/or visualizations to use the provided data for this analysis (a few sentences/plots describing your approach will suffice). What fraction of the observed users were retained?\n",
    "\n",
    "\n",
    "2. Build a predictive model to help Ultimate determine whether or not a user will be active in their 6th month on the system. Discuss why you chose your approach, what alternatives you considered, and any concerns you have. How valid is your model? Include any key indicators of model performance.\n",
    "\n",
    "\n",
    "\n",
    "3. Briefly discuss how Ultimate might leverage the insights gained from the model to improve its long term rider retention (again, a few sentences will suffice).\n",
    "\n",
    "## Cleaning and Data prep"
   ]
  },
  {
   "cell_type": "code",
   "execution_count": null,
   "id": "be496c67",
   "metadata": {},
   "outputs": [],
   "source": []
  },
  {
   "cell_type": "code",
   "execution_count": 220,
   "id": "12ff5eff",
   "metadata": {},
   "outputs": [
    {
     "data": {
      "text/html": [
       "<div>\n",
       "<style scoped>\n",
       "    .dataframe tbody tr th:only-of-type {\n",
       "        vertical-align: middle;\n",
       "    }\n",
       "\n",
       "    .dataframe tbody tr th {\n",
       "        vertical-align: top;\n",
       "    }\n",
       "\n",
       "    .dataframe thead th {\n",
       "        text-align: right;\n",
       "    }\n",
       "</style>\n",
       "<table border=\"1\" class=\"dataframe\">\n",
       "  <thead>\n",
       "    <tr style=\"text-align: right;\">\n",
       "      <th></th>\n",
       "      <th>city</th>\n",
       "      <th>trips_in_first_30_days</th>\n",
       "      <th>signup_date</th>\n",
       "      <th>avg_rating_of_driver</th>\n",
       "      <th>avg_surge</th>\n",
       "      <th>last_trip_date</th>\n",
       "      <th>phone</th>\n",
       "      <th>surge_pct</th>\n",
       "      <th>ultimate_black_user</th>\n",
       "      <th>weekday_pct</th>\n",
       "      <th>avg_dist</th>\n",
       "      <th>avg_rating_by_driver</th>\n",
       "    </tr>\n",
       "  </thead>\n",
       "  <tbody>\n",
       "    <tr>\n",
       "      <th>0</th>\n",
       "      <td>King's Landing</td>\n",
       "      <td>4</td>\n",
       "      <td>2014-01-25</td>\n",
       "      <td>4.7</td>\n",
       "      <td>1.10</td>\n",
       "      <td>2014-06-17</td>\n",
       "      <td>iPhone</td>\n",
       "      <td>15.4</td>\n",
       "      <td>True</td>\n",
       "      <td>46.2</td>\n",
       "      <td>3.67</td>\n",
       "      <td>5.0</td>\n",
       "    </tr>\n",
       "    <tr>\n",
       "      <th>1</th>\n",
       "      <td>Astapor</td>\n",
       "      <td>0</td>\n",
       "      <td>2014-01-29</td>\n",
       "      <td>5.0</td>\n",
       "      <td>1.00</td>\n",
       "      <td>2014-05-05</td>\n",
       "      <td>Android</td>\n",
       "      <td>0.0</td>\n",
       "      <td>False</td>\n",
       "      <td>50.0</td>\n",
       "      <td>8.26</td>\n",
       "      <td>5.0</td>\n",
       "    </tr>\n",
       "    <tr>\n",
       "      <th>2</th>\n",
       "      <td>Astapor</td>\n",
       "      <td>3</td>\n",
       "      <td>2014-01-06</td>\n",
       "      <td>4.3</td>\n",
       "      <td>1.00</td>\n",
       "      <td>2014-01-07</td>\n",
       "      <td>iPhone</td>\n",
       "      <td>0.0</td>\n",
       "      <td>False</td>\n",
       "      <td>100.0</td>\n",
       "      <td>0.77</td>\n",
       "      <td>5.0</td>\n",
       "    </tr>\n",
       "    <tr>\n",
       "      <th>3</th>\n",
       "      <td>King's Landing</td>\n",
       "      <td>9</td>\n",
       "      <td>2014-01-10</td>\n",
       "      <td>4.6</td>\n",
       "      <td>1.14</td>\n",
       "      <td>2014-06-29</td>\n",
       "      <td>iPhone</td>\n",
       "      <td>20.0</td>\n",
       "      <td>True</td>\n",
       "      <td>80.0</td>\n",
       "      <td>2.36</td>\n",
       "      <td>4.9</td>\n",
       "    </tr>\n",
       "    <tr>\n",
       "      <th>4</th>\n",
       "      <td>Winterfell</td>\n",
       "      <td>14</td>\n",
       "      <td>2014-01-27</td>\n",
       "      <td>4.4</td>\n",
       "      <td>1.19</td>\n",
       "      <td>2014-03-15</td>\n",
       "      <td>Android</td>\n",
       "      <td>11.8</td>\n",
       "      <td>False</td>\n",
       "      <td>82.4</td>\n",
       "      <td>3.13</td>\n",
       "      <td>4.9</td>\n",
       "    </tr>\n",
       "  </tbody>\n",
       "</table>\n",
       "</div>"
      ],
      "text/plain": [
       "             city  trips_in_first_30_days signup_date  avg_rating_of_driver  \\\n",
       "0  King's Landing                       4  2014-01-25                   4.7   \n",
       "1         Astapor                       0  2014-01-29                   5.0   \n",
       "2         Astapor                       3  2014-01-06                   4.3   \n",
       "3  King's Landing                       9  2014-01-10                   4.6   \n",
       "4      Winterfell                      14  2014-01-27                   4.4   \n",
       "\n",
       "   avg_surge last_trip_date    phone  surge_pct  ultimate_black_user  \\\n",
       "0       1.10     2014-06-17   iPhone       15.4                 True   \n",
       "1       1.00     2014-05-05  Android        0.0                False   \n",
       "2       1.00     2014-01-07   iPhone        0.0                False   \n",
       "3       1.14     2014-06-29   iPhone       20.0                 True   \n",
       "4       1.19     2014-03-15  Android       11.8                False   \n",
       "\n",
       "   weekday_pct  avg_dist  avg_rating_by_driver  \n",
       "0         46.2      3.67                   5.0  \n",
       "1         50.0      8.26                   5.0  \n",
       "2        100.0      0.77                   5.0  \n",
       "3         80.0      2.36                   4.9  \n",
       "4         82.4      3.13                   4.9  "
      ]
     },
     "execution_count": 220,
     "metadata": {},
     "output_type": "execute_result"
    }
   ],
   "source": [
    "trips = pd.read_json('ultimate_data_challenge.json')\n",
    "trips.head()"
   ]
  },
  {
   "cell_type": "code",
   "execution_count": 221,
   "id": "e22fd086",
   "metadata": {},
   "outputs": [
    {
     "name": "stdout",
     "output_type": "stream",
     "text": [
      "<class 'pandas.core.frame.DataFrame'>\n",
      "RangeIndex: 50000 entries, 0 to 49999\n",
      "Data columns (total 12 columns):\n",
      " #   Column                  Non-Null Count  Dtype  \n",
      "---  ------                  --------------  -----  \n",
      " 0   city                    50000 non-null  object \n",
      " 1   trips_in_first_30_days  50000 non-null  int64  \n",
      " 2   signup_date             50000 non-null  object \n",
      " 3   avg_rating_of_driver    41878 non-null  float64\n",
      " 4   avg_surge               50000 non-null  float64\n",
      " 5   last_trip_date          50000 non-null  object \n",
      " 6   phone                   49604 non-null  object \n",
      " 7   surge_pct               50000 non-null  float64\n",
      " 8   ultimate_black_user     50000 non-null  bool   \n",
      " 9   weekday_pct             50000 non-null  float64\n",
      " 10  avg_dist                50000 non-null  float64\n",
      " 11  avg_rating_by_driver    49799 non-null  float64\n",
      "dtypes: bool(1), float64(6), int64(1), object(4)\n",
      "memory usage: 4.2+ MB\n",
      "city                         0\n",
      "trips_in_first_30_days       0\n",
      "signup_date                  0\n",
      "avg_rating_of_driver      8122\n",
      "avg_surge                    0\n",
      "last_trip_date               0\n",
      "phone                      396\n",
      "surge_pct                    0\n",
      "ultimate_black_user          0\n",
      "weekday_pct                  0\n",
      "avg_dist                     0\n",
      "avg_rating_by_driver       201\n",
      "dtype: int64\n"
     ]
    }
   ],
   "source": [
    "\n",
    "# check data types\n",
    "trips.info()\n",
    "# check missing\n",
    "print(trips.isnull().sum())"
   ]
  },
  {
   "cell_type": "code",
   "execution_count": 222,
   "id": "902c02b7",
   "metadata": {},
   "outputs": [
    {
     "data": {
      "text/plain": [
       "<AxesSubplot:>"
      ]
     },
     "execution_count": 222,
     "metadata": {},
     "output_type": "execute_result"
    },
    {
     "data": {
      "image/png": "[encoded data removed]",
      "text/plain": [
       "<Figure size 648x360 with 2 Axes>"
      ]
     },
     "metadata": {
      "needs_background": "light"
     },
     "output_type": "display_data"
    }
   ],
   "source": [
    "import missingno as msno\n",
    "%matplotlib inline\n",
    "msno.matrix(trips.sort_values('signup_date'), fontsize=20, figsize=(9,5), color=(0.1, 0.9, .6))"
   ]
  },
  {
   "cell_type": "markdown",
   "id": "c7322d49",
   "metadata": {},
   "source": [
    "### Initial data observations\n",
    "1. 50k rows of data mostly complete\n",
    "2. \"Avg rating of driver is missing at random\"\n"
   ]
  },
  {
   "cell_type": "markdown",
   "id": "df706828",
   "metadata": {},
   "source": [
    "### Data cleaning to perform:\n",
    "    1. Convert \"signup date\" and \"last trip date\" to timestamp\n",
    "    2. Mean impute \"avg_rating_of_driver\" and \"avg_rating_by_driver\"\n",
    "    3. calculate month of signup\n",
    "    4. calculate month of last ride\n",
    "    5. create column of \"rider\" tenure. Time between sig up and last ride in days\n",
    "    6. calculate \"retention\"\n",
    "    impute with iphone\n",
    "  "
   ]
  },
  {
   "cell_type": "code",
   "execution_count": 223,
   "id": "c7b6f44f",
   "metadata": {},
   "outputs": [
    {
     "data": {
      "text/plain": [
       "<AxesSubplot:xlabel='avg_rating_of_driver', ylabel='Count'>"
      ]
     },
     "execution_count": 223,
     "metadata": {},
     "output_type": "execute_result"
    },
    {
     "data": {
      "image/png": "[encoded data removed]",
      "text/plain": [
       "<Figure size 432x288 with 1 Axes>"
      ]
     },
     "metadata": {
      "needs_background": "light"
     },
     "output_type": "display_data"
    }
   ],
   "source": [
    "sns.histplot(x=\"avg_rating_of_driver\", data=trips)"
   ]
  },
  {
   "cell_type": "code",
   "execution_count": 224,
   "id": "c7b0d8bf",
   "metadata": {},
   "outputs": [
    {
     "data": {
      "text/plain": [
       "<AxesSubplot:xlabel='city', ylabel='count'>"
      ]
     },
     "execution_count": 224,
     "metadata": {},
     "output_type": "execute_result"
    },
    {
     "data": {
      "image/png": "[encoded data removed]",
      "text/plain": [
       "<Figure size 432x288 with 1 Axes>"
      ]
     },
     "metadata": {
      "needs_background": "light"
     },
     "output_type": "display_data"
    }
   ],
   "source": [
    "sns.countplot(x=\"city\", data=trips)"
   ]
  },
  {
   "cell_type": "code",
   "execution_count": 225,
   "id": "c26b9957",
   "metadata": {
    "scrolled": true
   },
   "outputs": [
    {
     "data": {
      "text/plain": [
       "<AxesSubplot:xlabel='phone', ylabel='count'>"
      ]
     },
     "execution_count": 225,
     "metadata": {},
     "output_type": "execute_result"
    },
    {
     "data": {
      "image/png": "[encoded data removed]",
      "text/plain": [
       "<Figure size 432x288 with 1 Axes>"
      ]
     },
     "metadata": {
      "needs_background": "light"
     },
     "output_type": "display_data"
    }
   ],
   "source": [
    "sns.countplot(x=\"phone\", data=trips)"
   ]
  },
  {
   "cell_type": "code",
   "execution_count": 226,
   "id": "bb809adb",
   "metadata": {},
   "outputs": [
    {
     "data": {
      "image/png": "[encoded data removed]",
      "text/plain": [
       "<Figure size 432x288 with 1 Axes>"
      ]
     },
     "metadata": {
      "needs_background": "light"
     },
     "output_type": "display_data"
    }
   ],
   "source": [
    "sns.histplot(x=\"signup_date\", data=trips)\n",
    "sns.set(rc={'figure.figsize':(14,5)})\n"
   ]
  },
  {
   "cell_type": "code",
   "execution_count": 227,
   "id": "7f50c20a",
   "metadata": {},
   "outputs": [
    {
     "data": {
      "text/plain": [
       "<AxesSubplot:xlabel='last_trip_date', ylabel='Count'>"
      ]
     },
     "execution_count": 227,
     "metadata": {},
     "output_type": "execute_result"
    },
    {
     "data": {
      "image/png": "[encoded data removed]",
      "text/plain": [
       "<Figure size 1008x360 with 1 Axes>"
      ]
     },
     "metadata": {},
     "output_type": "display_data"
    }
   ],
   "source": [
    "sns.histplot(x=\"last_trip_date\", data=trips)"
   ]
  },
  {
   "cell_type": "code",
   "execution_count": 228,
   "id": "0d5f0428",
   "metadata": {},
   "outputs": [
    {
     "data": {
      "text/plain": [
       "45126    2014-07-01\n",
       "38651    2014-07-01\n",
       "14473    2014-07-01\n",
       "22735    2014-07-01\n",
       "45357    2014-07-01\n",
       "Name: last_trip_date, dtype: object"
      ]
     },
     "execution_count": 228,
     "metadata": {},
     "output_type": "execute_result"
    }
   ],
   "source": [
    "trips['last_trip_date'].sort_values().tail()\n",
    "\n",
    "#retained individuals are retained if they used since 2014-06-01"
   ]
  },
  {
   "cell_type": "code",
   "execution_count": 243,
   "id": "01dabcea",
   "metadata": {},
   "outputs": [
    {
     "data": {
      "text/html": [
       "<div>\n",
       "<style scoped>\n",
       "    .dataframe tbody tr th:only-of-type {\n",
       "        vertical-align: middle;\n",
       "    }\n",
       "\n",
       "    .dataframe tbody tr th {\n",
       "        vertical-align: top;\n",
       "    }\n",
       "\n",
       "    .dataframe thead th {\n",
       "        text-align: right;\n",
       "    }\n",
       "</style>\n",
       "<table border=\"1\" class=\"dataframe\">\n",
       "  <thead>\n",
       "    <tr style=\"text-align: right;\">\n",
       "      <th></th>\n",
       "      <th>city</th>\n",
       "      <th>trips_in_first_30_days</th>\n",
       "      <th>signup_date</th>\n",
       "      <th>avg_rating_of_driver</th>\n",
       "      <th>avg_surge</th>\n",
       "      <th>last_trip_date</th>\n",
       "      <th>phone</th>\n",
       "      <th>surge_pct</th>\n",
       "      <th>ultimate_black_user</th>\n",
       "      <th>weekday_pct</th>\n",
       "      <th>avg_dist</th>\n",
       "      <th>avg_rating_by_driver</th>\n",
       "      <th>signup_month</th>\n",
       "      <th>last_trip_month</th>\n",
       "      <th>rider_tenure</th>\n",
       "      <th>retained</th>\n",
       "    </tr>\n",
       "  </thead>\n",
       "  <tbody>\n",
       "    <tr>\n",
       "      <th>0</th>\n",
       "      <td>King's Landing</td>\n",
       "      <td>4</td>\n",
       "      <td>2014-01-25</td>\n",
       "      <td>4.7</td>\n",
       "      <td>1.10</td>\n",
       "      <td>2014-06-17</td>\n",
       "      <td>iPhone</td>\n",
       "      <td>15.4</td>\n",
       "      <td>1</td>\n",
       "      <td>46.2</td>\n",
       "      <td>3.67</td>\n",
       "      <td>5.0</td>\n",
       "      <td>1</td>\n",
       "      <td>6</td>\n",
       "      <td>143.0</td>\n",
       "      <td>1</td>\n",
       "    </tr>\n",
       "    <tr>\n",
       "      <th>1</th>\n",
       "      <td>Astapor</td>\n",
       "      <td>0</td>\n",
       "      <td>2014-01-29</td>\n",
       "      <td>5.0</td>\n",
       "      <td>1.00</td>\n",
       "      <td>2014-05-05</td>\n",
       "      <td>Android</td>\n",
       "      <td>0.0</td>\n",
       "      <td>0</td>\n",
       "      <td>50.0</td>\n",
       "      <td>8.26</td>\n",
       "      <td>5.0</td>\n",
       "      <td>1</td>\n",
       "      <td>5</td>\n",
       "      <td>96.0</td>\n",
       "      <td>0</td>\n",
       "    </tr>\n",
       "    <tr>\n",
       "      <th>2</th>\n",
       "      <td>Astapor</td>\n",
       "      <td>3</td>\n",
       "      <td>2014-01-06</td>\n",
       "      <td>4.3</td>\n",
       "      <td>1.00</td>\n",
       "      <td>2014-01-07</td>\n",
       "      <td>iPhone</td>\n",
       "      <td>0.0</td>\n",
       "      <td>0</td>\n",
       "      <td>100.0</td>\n",
       "      <td>0.77</td>\n",
       "      <td>5.0</td>\n",
       "      <td>1</td>\n",
       "      <td>1</td>\n",
       "      <td>1.0</td>\n",
       "      <td>0</td>\n",
       "    </tr>\n",
       "    <tr>\n",
       "      <th>3</th>\n",
       "      <td>King's Landing</td>\n",
       "      <td>9</td>\n",
       "      <td>2014-01-10</td>\n",
       "      <td>4.6</td>\n",
       "      <td>1.14</td>\n",
       "      <td>2014-06-29</td>\n",
       "      <td>iPhone</td>\n",
       "      <td>20.0</td>\n",
       "      <td>1</td>\n",
       "      <td>80.0</td>\n",
       "      <td>2.36</td>\n",
       "      <td>4.9</td>\n",
       "      <td>1</td>\n",
       "      <td>6</td>\n",
       "      <td>170.0</td>\n",
       "      <td>1</td>\n",
       "    </tr>\n",
       "    <tr>\n",
       "      <th>4</th>\n",
       "      <td>Winterfell</td>\n",
       "      <td>14</td>\n",
       "      <td>2014-01-27</td>\n",
       "      <td>4.4</td>\n",
       "      <td>1.19</td>\n",
       "      <td>2014-03-15</td>\n",
       "      <td>Android</td>\n",
       "      <td>11.8</td>\n",
       "      <td>0</td>\n",
       "      <td>82.4</td>\n",
       "      <td>3.13</td>\n",
       "      <td>4.9</td>\n",
       "      <td>1</td>\n",
       "      <td>3</td>\n",
       "      <td>47.0</td>\n",
       "      <td>0</td>\n",
       "    </tr>\n",
       "  </tbody>\n",
       "</table>\n",
       "</div>"
      ],
      "text/plain": [
       "             city  trips_in_first_30_days signup_date  avg_rating_of_driver  \\\n",
       "0  King's Landing                       4  2014-01-25                   4.7   \n",
       "1         Astapor                       0  2014-01-29                   5.0   \n",
       "2         Astapor                       3  2014-01-06                   4.3   \n",
       "3  King's Landing                       9  2014-01-10                   4.6   \n",
       "4      Winterfell                      14  2014-01-27                   4.4   \n",
       "\n",
       "   avg_surge last_trip_date    phone  surge_pct  ultimate_black_user  \\\n",
       "0       1.10     2014-06-17   iPhone       15.4                    1   \n",
       "1       1.00     2014-05-05  Android        0.0                    0   \n",
       "2       1.00     2014-01-07   iPhone        0.0                    0   \n",
       "3       1.14     2014-06-29   iPhone       20.0                    1   \n",
       "4       1.19     2014-03-15  Android       11.8                    0   \n",
       "\n",
       "   weekday_pct  avg_dist  avg_rating_by_driver  signup_month  last_trip_month  \\\n",
       "0         46.2      3.67                   5.0             1                6   \n",
       "1         50.0      8.26                   5.0             1                5   \n",
       "2        100.0      0.77                   5.0             1                1   \n",
       "3         80.0      2.36                   4.9             1                6   \n",
       "4         82.4      3.13                   4.9             1                3   \n",
       "\n",
       "   rider_tenure  retained  \n",
       "0         143.0         1  \n",
       "1          96.0         0  \n",
       "2           1.0         0  \n",
       "3         170.0         1  \n",
       "4          47.0         0  "
      ]
     },
     "execution_count": 243,
     "metadata": {},
     "output_type": "execute_result"
    }
   ],
   "source": [
    "\n",
    "# check data types\n",
    "trips_cleaned= trips\n",
    "\n",
    "# convert to datetime\n",
    "trips_cleaned[\"signup_date\"] =  pd.to_datetime(trips_cleaned[\"signup_date\"], format=\"%Y-%m-%d\")\n",
    "trips_cleaned[\"last_trip_date\"] =  pd.to_datetime(trips_cleaned[\"last_trip_date\"], format=\"%Y-%m-%d\")\n",
    "\n",
    "\n",
    "# mean impute \"avg_rating_of_driver\" and \"avg_rating_by_driver\"\n",
    "# distribution is skewed, opting for \"median\" imputation\n",
    "trips_cleaned['avg_rating_of_driver'].fillna(int(trips_cleaned['avg_rating_of_driver'].median()), inplace=True)\n",
    "trips_cleaned['avg_rating_by_driver'].fillna(int(trips_cleaned['avg_rating_by_driver'].median()), inplace=True)\n",
    "\n",
    "\n",
    "# create month and year for signup date and last trip date\n",
    "trips_cleaned['signup_month']=trips_cleaned['signup_date'].dt.month\n",
    "trips_cleaned['last_trip_month']=trips_cleaned['last_trip_date'].dt.month\n",
    "\n",
    "# calculate rider tenure (difference in last ride and first ride)\n",
    "trips_cleaned['rider_tenure'] = trips_cleaned['last_trip_date'] - trips_cleaned['signup_date']\n",
    "\n",
    "from datetime import timedelta\n",
    "\n",
    "# retained\n",
    "\n",
    "trips_cleaned['retained']= (trips_cleaned['last_trip_date'] > '2014-06-01')*1\n",
    "trips_cleaned['retained'] = trips_cleaned['retained'].astype(int)    \n",
    "#trips_cleaned['retained'] = trips_cleaned['retained'].astype(\"category\")   \n",
    "\n",
    "    \n",
    "#trips_cleaned['rider_tenure']=trips_cleaned['rider_tenure']\n",
    "trips_cleaned['rider_tenure']=trips_cleaned['rider_tenure'].astype('timedelta64[D]')\n",
    "\n",
    "#randomly impute Phone column\n",
    "trips_cleaned.loc[trips_cleaned[\"phone\"].isna(), \"phone\"] = trips_cleaned[\"phone\"].dropna().sample(\n",
    "     trips_cleaned[\"phone\"].isna().sum(),\n",
    "     replace=True).values\n",
    "\n",
    "\n",
    "#ultimate_black_user, change to integer\n",
    "trips_cleaned['ultimate_black_user'] = trips_cleaned['ultimate_black_user'].astype(int)    \n",
    "\n",
    "\n",
    "\n",
    "# check missing\n",
    "trips_cleaned.head()"
   ]
  },
  {
   "cell_type": "code",
   "execution_count": 230,
   "id": "a6a5d64c",
   "metadata": {},
   "outputs": [
    {
     "name": "stdout",
     "output_type": "stream",
     "text": [
      "<class 'pandas.core.frame.DataFrame'>\n",
      "RangeIndex: 50000 entries, 0 to 49999\n",
      "Data columns (total 12 columns):\n",
      " #   Column                            Non-Null Count  Dtype \n",
      "---  ------                            --------------  ----- \n",
      " 0   onehotencoder__x0_iPhone          50000 non-null  object\n",
      " 1   onehotencoder__x1_King's Landing  50000 non-null  object\n",
      " 2   onehotencoder__x1_Winterfell      50000 non-null  object\n",
      " 3   trips_in_first_30_days            50000 non-null  object\n",
      " 4   avg_rating_of_driver              50000 non-null  object\n",
      " 5   avg_surge                         50000 non-null  object\n",
      " 6   surge_pct                         50000 non-null  object\n",
      " 7   ultimate_black_user               50000 non-null  object\n",
      " 8   weekday_pct                       50000 non-null  object\n",
      " 9   avg_dist                          50000 non-null  object\n",
      " 10  avg_rating_by_driver              50000 non-null  object\n",
      " 11  retained                          50000 non-null  object\n",
      "dtypes: object(12)\n",
      "memory usage: 4.6+ MB\n"
     ]
    }
   ],
   "source": [
    "df.info()"
   ]
  },
  {
   "cell_type": "code",
   "execution_count": 231,
   "id": "23ac5451",
   "metadata": {},
   "outputs": [
    {
     "name": "stdout",
     "output_type": "stream",
     "text": [
      "<class 'pandas.core.frame.DataFrame'>\n",
      "RangeIndex: 50000 entries, 0 to 49999\n",
      "Data columns (total 16 columns):\n",
      " #   Column                  Non-Null Count  Dtype         \n",
      "---  ------                  --------------  -----         \n",
      " 0   city                    50000 non-null  object        \n",
      " 1   trips_in_first_30_days  50000 non-null  int64         \n",
      " 2   signup_date             50000 non-null  datetime64[ns]\n",
      " 3   avg_rating_of_driver    50000 non-null  float64       \n",
      " 4   avg_surge               50000 non-null  float64       \n",
      " 5   last_trip_date          50000 non-null  datetime64[ns]\n",
      " 6   phone                   50000 non-null  object        \n",
      " 7   surge_pct               50000 non-null  float64       \n",
      " 8   ultimate_black_user     50000 non-null  int32         \n",
      " 9   weekday_pct             50000 non-null  float64       \n",
      " 10  avg_dist                50000 non-null  float64       \n",
      " 11  avg_rating_by_driver    50000 non-null  float64       \n",
      " 12  signup_month            50000 non-null  int64         \n",
      " 13  last_trip_month         50000 non-null  int64         \n",
      " 14  rider_tenure            50000 non-null  float64       \n",
      " 15  retained                50000 non-null  int32         \n",
      "dtypes: datetime64[ns](2), float64(7), int32(2), int64(3), object(2)\n",
      "memory usage: 5.7+ MB\n"
     ]
    }
   ],
   "source": [
    "trips_cleaned.info()"
   ]
  },
  {
   "cell_type": "code",
   "execution_count": 232,
   "id": "93266265",
   "metadata": {},
   "outputs": [
    {
     "data": {
      "text/plain": [
       "<AxesSubplot:xlabel='retained', ylabel='count'>"
      ]
     },
     "execution_count": 232,
     "metadata": {},
     "output_type": "execute_result"
    },
    {
     "data": {
      "image/png": "[encoded data removed]",
      "text/plain": [
       "<Figure size 1008x360 with 1 Axes>"
      ]
     },
     "metadata": {},
     "output_type": "display_data"
    }
   ],
   "source": [
    "sns.countplot(x=\"retained\", data=trips_cleaned)"
   ]
  },
  {
   "cell_type": "code",
   "execution_count": 233,
   "id": "928f3e79",
   "metadata": {
    "scrolled": true
   },
   "outputs": [
    {
     "data": {
      "text/html": [
       "<div>\n",
       "<style scoped>\n",
       "    .dataframe tbody tr th:only-of-type {\n",
       "        vertical-align: middle;\n",
       "    }\n",
       "\n",
       "    .dataframe tbody tr th {\n",
       "        vertical-align: top;\n",
       "    }\n",
       "\n",
       "    .dataframe thead th {\n",
       "        text-align: right;\n",
       "    }\n",
       "</style>\n",
       "<table border=\"1\" class=\"dataframe\">\n",
       "  <thead>\n",
       "    <tr style=\"text-align: right;\">\n",
       "      <th></th>\n",
       "      <th>trips_in_first_30_days</th>\n",
       "      <th>avg_rating_of_driver</th>\n",
       "      <th>avg_surge</th>\n",
       "      <th>surge_pct</th>\n",
       "      <th>ultimate_black_user</th>\n",
       "      <th>weekday_pct</th>\n",
       "      <th>avg_dist</th>\n",
       "      <th>avg_rating_by_driver</th>\n",
       "      <th>signup_month</th>\n",
       "      <th>last_trip_month</th>\n",
       "      <th>rider_tenure</th>\n",
       "      <th>retained</th>\n",
       "    </tr>\n",
       "  </thead>\n",
       "  <tbody>\n",
       "    <tr>\n",
       "      <th>count</th>\n",
       "      <td>50000.000000</td>\n",
       "      <td>50000.000000</td>\n",
       "      <td>50000.000000</td>\n",
       "      <td>50000.000000</td>\n",
       "      <td>50000.00000</td>\n",
       "      <td>50000.000000</td>\n",
       "      <td>50000.000000</td>\n",
       "      <td>50000.000000</td>\n",
       "      <td>50000.0</td>\n",
       "      <td>50000.000000</td>\n",
       "      <td>50000.000000</td>\n",
       "      <td>50000.00000</td>\n",
       "    </tr>\n",
       "    <tr>\n",
       "      <th>mean</th>\n",
       "      <td>2.278200</td>\n",
       "      <td>4.503842</td>\n",
       "      <td>1.074764</td>\n",
       "      <td>8.849536</td>\n",
       "      <td>0.37708</td>\n",
       "      <td>60.926084</td>\n",
       "      <td>5.796827</td>\n",
       "      <td>4.779050</td>\n",
       "      <td>1.0</td>\n",
       "      <td>4.042320</td>\n",
       "      <td>92.790100</td>\n",
       "      <td>0.36620</td>\n",
       "    </tr>\n",
       "    <tr>\n",
       "      <th>std</th>\n",
       "      <td>3.792684</td>\n",
       "      <td>0.606987</td>\n",
       "      <td>0.222336</td>\n",
       "      <td>19.958811</td>\n",
       "      <td>0.48466</td>\n",
       "      <td>37.081503</td>\n",
       "      <td>5.707357</td>\n",
       "      <td>0.445974</td>\n",
       "      <td>0.0</td>\n",
       "      <td>1.992879</td>\n",
       "      <td>62.129822</td>\n",
       "      <td>0.48177</td>\n",
       "    </tr>\n",
       "    <tr>\n",
       "      <th>min</th>\n",
       "      <td>0.000000</td>\n",
       "      <td>1.000000</td>\n",
       "      <td>1.000000</td>\n",
       "      <td>0.000000</td>\n",
       "      <td>0.00000</td>\n",
       "      <td>0.000000</td>\n",
       "      <td>0.000000</td>\n",
       "      <td>1.000000</td>\n",
       "      <td>1.0</td>\n",
       "      <td>1.000000</td>\n",
       "      <td>0.000000</td>\n",
       "      <td>0.00000</td>\n",
       "    </tr>\n",
       "    <tr>\n",
       "      <th>25%</th>\n",
       "      <td>0.000000</td>\n",
       "      <td>4.000000</td>\n",
       "      <td>1.000000</td>\n",
       "      <td>0.000000</td>\n",
       "      <td>0.00000</td>\n",
       "      <td>33.300000</td>\n",
       "      <td>2.420000</td>\n",
       "      <td>4.700000</td>\n",
       "      <td>1.0</td>\n",
       "      <td>2.000000</td>\n",
       "      <td>27.000000</td>\n",
       "      <td>0.00000</td>\n",
       "    </tr>\n",
       "    <tr>\n",
       "      <th>50%</th>\n",
       "      <td>1.000000</td>\n",
       "      <td>4.700000</td>\n",
       "      <td>1.000000</td>\n",
       "      <td>0.000000</td>\n",
       "      <td>0.00000</td>\n",
       "      <td>66.700000</td>\n",
       "      <td>3.880000</td>\n",
       "      <td>5.000000</td>\n",
       "      <td>1.0</td>\n",
       "      <td>5.000000</td>\n",
       "      <td>110.000000</td>\n",
       "      <td>0.00000</td>\n",
       "    </tr>\n",
       "    <tr>\n",
       "      <th>75%</th>\n",
       "      <td>3.000000</td>\n",
       "      <td>5.000000</td>\n",
       "      <td>1.050000</td>\n",
       "      <td>8.600000</td>\n",
       "      <td>1.00000</td>\n",
       "      <td>100.000000</td>\n",
       "      <td>6.940000</td>\n",
       "      <td>5.000000</td>\n",
       "      <td>1.0</td>\n",
       "      <td>6.000000</td>\n",
       "      <td>150.000000</td>\n",
       "      <td>1.00000</td>\n",
       "    </tr>\n",
       "    <tr>\n",
       "      <th>max</th>\n",
       "      <td>125.000000</td>\n",
       "      <td>5.000000</td>\n",
       "      <td>8.000000</td>\n",
       "      <td>100.000000</td>\n",
       "      <td>1.00000</td>\n",
       "      <td>100.000000</td>\n",
       "      <td>160.960000</td>\n",
       "      <td>5.000000</td>\n",
       "      <td>1.0</td>\n",
       "      <td>7.000000</td>\n",
       "      <td>181.000000</td>\n",
       "      <td>1.00000</td>\n",
       "    </tr>\n",
       "  </tbody>\n",
       "</table>\n",
       "</div>"
      ],
      "text/plain": [
       "       trips_in_first_30_days  avg_rating_of_driver     avg_surge  \\\n",
       "count            50000.000000          50000.000000  50000.000000   \n",
       "mean                 2.278200              4.503842      1.074764   \n",
       "std                  3.792684              0.606987      0.222336   \n",
       "min                  0.000000              1.000000      1.000000   \n",
       "25%                  0.000000              4.000000      1.000000   \n",
       "50%                  1.000000              4.700000      1.000000   \n",
       "75%                  3.000000              5.000000      1.050000   \n",
       "max                125.000000              5.000000      8.000000   \n",
       "\n",
       "          surge_pct  ultimate_black_user   weekday_pct      avg_dist  \\\n",
       "count  50000.000000          50000.00000  50000.000000  50000.000000   \n",
       "mean       8.849536              0.37708     60.926084      5.796827   \n",
       "std       19.958811              0.48466     37.081503      5.707357   \n",
       "min        0.000000              0.00000      0.000000      0.000000   \n",
       "25%        0.000000              0.00000     33.300000      2.420000   \n",
       "50%        0.000000              0.00000     66.700000      3.880000   \n",
       "75%        8.600000              1.00000    100.000000      6.940000   \n",
       "max      100.000000              1.00000    100.000000    160.960000   \n",
       "\n",
       "       avg_rating_by_driver  signup_month  last_trip_month  rider_tenure  \\\n",
       "count          50000.000000       50000.0     50000.000000  50000.000000   \n",
       "mean               4.779050           1.0         4.042320     92.790100   \n",
       "std                0.445974           0.0         1.992879     62.129822   \n",
       "min                1.000000           1.0         1.000000      0.000000   \n",
       "25%                4.700000           1.0         2.000000     27.000000   \n",
       "50%                5.000000           1.0         5.000000    110.000000   \n",
       "75%                5.000000           1.0         6.000000    150.000000   \n",
       "max                5.000000           1.0         7.000000    181.000000   \n",
       "\n",
       "          retained  \n",
       "count  50000.00000  \n",
       "mean       0.36620  \n",
       "std        0.48177  \n",
       "min        0.00000  \n",
       "25%        0.00000  \n",
       "50%        0.00000  \n",
       "75%        1.00000  \n",
       "max        1.00000  "
      ]
     },
     "execution_count": 233,
     "metadata": {},
     "output_type": "execute_result"
    }
   ],
   "source": [
    "trips_cleaned.describe()"
   ]
  },
  {
   "cell_type": "code",
   "execution_count": 234,
   "id": "ce92142b",
   "metadata": {},
   "outputs": [
    {
     "name": "stdout",
     "output_type": "stream",
     "text": [
      "37% of users were retained.\n"
     ]
    }
   ],
   "source": [
    "#Retained proportion\n",
    "retained = len(trips_cleaned[trips_cleaned['last_trip_date'] > '2014-06-01'])/len(trips_cleaned)\n",
    "print('{:.0f}% of users were retained.'.format(retained*100))"
   ]
  },
  {
   "cell_type": "code",
   "execution_count": 235,
   "id": "b669951b",
   "metadata": {},
   "outputs": [],
   "source": [
    "#trips_cleaned_pp=trips_cleaned.drop(['city','phone','signup_date',  'last_trip_date','ultimate_black_user'], axis=1)\n",
    "#sns.pairplot(trips_cleaned_pp, hue ='retained')\n",
    "##trips_cleaned_pp.head()\n",
    "#plt.show()"
   ]
  },
  {
   "cell_type": "code",
   "execution_count": null,
   "id": "40f7e9ea",
   "metadata": {},
   "outputs": [],
   "source": [
    "trips_numeric=trips_cleaned.drop(['city','phone','signup_date',  'last_trip_date','ultimate_black_user'], axis=1)\n",
    "trips_numeric.corr()"
   ]
  },
  {
   "cell_type": "code",
   "execution_count": 236,
   "id": "17de4ac1",
   "metadata": {},
   "outputs": [],
   "source": [
    "\n",
    "#trips_numeric=trips_cleaned.drop(['city','phone','signup_date',  'last_trip_date','ultimate_black_user'], axis=1)\n",
    "#\n",
    "#sns.set(style=\"whitegrid\")\n",
    "#\n",
    "#for i, col in enumerate(trips_numeric.columns):\n",
    "#    plt.figure(i)\n",
    "#    sns.boxplot(y=col,x=\"retained\", data=trips_numeric, hue=\"retained\")"
   ]
  },
  {
   "cell_type": "markdown",
   "id": "b559b2f9",
   "metadata": {},
   "source": [
    "Looked through boxplots of all numeric columns, the following three stood out."
   ]
  },
  {
   "cell_type": "code",
   "execution_count": 237,
   "id": "eec2cbe8",
   "metadata": {},
   "outputs": [
    {
     "data": {
      "text/plain": [
       "<AxesSubplot:xlabel='retained', ylabel='trips_in_first_30_days'>"
      ]
     },
     "execution_count": 237,
     "metadata": {},
     "output_type": "execute_result"
    },
    {
     "data": {
      "image/png": "[encoded data removed]",
      "text/plain": [
       "<Figure size 1008x360 with 1 Axes>"
      ]
     },
     "metadata": {},
     "output_type": "display_data"
    }
   ],
   "source": [
    "#plot surge percent\n",
    "#proportion weekday driving\n",
    "sns.boxplot(y=\"trips_in_first_30_days\",x=\"retained\", data=trips_cleaned, hue=\"retained\")\n"
   ]
  },
  {
   "cell_type": "code",
   "execution_count": 238,
   "id": "ee0adb3d",
   "metadata": {},
   "outputs": [
    {
     "data": {
      "text/plain": [
       "<AxesSubplot:xlabel='retained', ylabel='weekday_pct'>"
      ]
     },
     "execution_count": 238,
     "metadata": {},
     "output_type": "execute_result"
    },
    {
     "data": {
      "image/png": "[encoded data removed]",
      "text/plain": [
       "<Figure size 1008x360 with 1 Axes>"
      ]
     },
     "metadata": {},
     "output_type": "display_data"
    }
   ],
   "source": [
    "sns.boxplot(y=\"weekday_pct\",x=\"retained\", data=trips_cleaned, hue=\"retained\")\n",
    "\n",
    "\n",
    "\n"
   ]
  },
  {
   "cell_type": "markdown",
   "id": "c329000c",
   "metadata": {},
   "source": [
    "# machine learning processing\n",
    "  1. dummy variable for city\n",
    "  2. dummy variable for phone. "
   ]
  },
  {
   "cell_type": "markdown",
   "id": "f8ac1dd3",
   "metadata": {},
   "source": [
    "### One Hot Encode"
   ]
  },
  {
   "cell_type": "code",
   "execution_count": 247,
   "id": "64a74238",
   "metadata": {},
   "outputs": [
    {
     "data": {
      "text/html": [
       "<div>\n",
       "<style scoped>\n",
       "    .dataframe tbody tr th:only-of-type {\n",
       "        vertical-align: middle;\n",
       "    }\n",
       "\n",
       "    .dataframe tbody tr th {\n",
       "        vertical-align: top;\n",
       "    }\n",
       "\n",
       "    .dataframe thead th {\n",
       "        text-align: right;\n",
       "    }\n",
       "</style>\n",
       "<table border=\"1\" class=\"dataframe\">\n",
       "  <thead>\n",
       "    <tr style=\"text-align: right;\">\n",
       "      <th></th>\n",
       "      <th>trips_in_first_30_days</th>\n",
       "      <th>avg_rating_of_driver</th>\n",
       "      <th>avg_surge</th>\n",
       "      <th>surge_pct</th>\n",
       "      <th>ultimate_black_user</th>\n",
       "      <th>weekday_pct</th>\n",
       "      <th>avg_dist</th>\n",
       "      <th>avg_rating_by_driver</th>\n",
       "      <th>retained</th>\n",
       "      <th>phone_iPhone</th>\n",
       "      <th>city_King's Landing</th>\n",
       "      <th>city_Winterfell</th>\n",
       "    </tr>\n",
       "  </thead>\n",
       "  <tbody>\n",
       "    <tr>\n",
       "      <th>0</th>\n",
       "      <td>4</td>\n",
       "      <td>4.7</td>\n",
       "      <td>1.10</td>\n",
       "      <td>15.4</td>\n",
       "      <td>1</td>\n",
       "      <td>46.2</td>\n",
       "      <td>3.67</td>\n",
       "      <td>5.0</td>\n",
       "      <td>1</td>\n",
       "      <td>1</td>\n",
       "      <td>1</td>\n",
       "      <td>0</td>\n",
       "    </tr>\n",
       "    <tr>\n",
       "      <th>1</th>\n",
       "      <td>0</td>\n",
       "      <td>5.0</td>\n",
       "      <td>1.00</td>\n",
       "      <td>0.0</td>\n",
       "      <td>0</td>\n",
       "      <td>50.0</td>\n",
       "      <td>8.26</td>\n",
       "      <td>5.0</td>\n",
       "      <td>0</td>\n",
       "      <td>0</td>\n",
       "      <td>0</td>\n",
       "      <td>0</td>\n",
       "    </tr>\n",
       "    <tr>\n",
       "      <th>2</th>\n",
       "      <td>3</td>\n",
       "      <td>4.3</td>\n",
       "      <td>1.00</td>\n",
       "      <td>0.0</td>\n",
       "      <td>0</td>\n",
       "      <td>100.0</td>\n",
       "      <td>0.77</td>\n",
       "      <td>5.0</td>\n",
       "      <td>0</td>\n",
       "      <td>1</td>\n",
       "      <td>0</td>\n",
       "      <td>0</td>\n",
       "    </tr>\n",
       "    <tr>\n",
       "      <th>3</th>\n",
       "      <td>9</td>\n",
       "      <td>4.6</td>\n",
       "      <td>1.14</td>\n",
       "      <td>20.0</td>\n",
       "      <td>1</td>\n",
       "      <td>80.0</td>\n",
       "      <td>2.36</td>\n",
       "      <td>4.9</td>\n",
       "      <td>1</td>\n",
       "      <td>1</td>\n",
       "      <td>1</td>\n",
       "      <td>0</td>\n",
       "    </tr>\n",
       "    <tr>\n",
       "      <th>4</th>\n",
       "      <td>14</td>\n",
       "      <td>4.4</td>\n",
       "      <td>1.19</td>\n",
       "      <td>11.8</td>\n",
       "      <td>0</td>\n",
       "      <td>82.4</td>\n",
       "      <td>3.13</td>\n",
       "      <td>4.9</td>\n",
       "      <td>0</td>\n",
       "      <td>0</td>\n",
       "      <td>0</td>\n",
       "      <td>1</td>\n",
       "    </tr>\n",
       "  </tbody>\n",
       "</table>\n",
       "</div>"
      ],
      "text/plain": [
       "   trips_in_first_30_days  avg_rating_of_driver  avg_surge  surge_pct  \\\n",
       "0                       4                   4.7       1.10       15.4   \n",
       "1                       0                   5.0       1.00        0.0   \n",
       "2                       3                   4.3       1.00        0.0   \n",
       "3                       9                   4.6       1.14       20.0   \n",
       "4                      14                   4.4       1.19       11.8   \n",
       "\n",
       "   ultimate_black_user  weekday_pct  avg_dist  avg_rating_by_driver  retained  \\\n",
       "0                    1         46.2      3.67                   5.0         1   \n",
       "1                    0         50.0      8.26                   5.0         0   \n",
       "2                    0        100.0      0.77                   5.0         0   \n",
       "3                    1         80.0      2.36                   4.9         1   \n",
       "4                    0         82.4      3.13                   4.9         0   \n",
       "\n",
       "   phone_iPhone  city_King's Landing  city_Winterfell  \n",
       "0             1                    1                0  \n",
       "1             0                    0                0  \n",
       "2             1                    0                0  \n",
       "3             1                    1                0  \n",
       "4             0                    0                1  "
      ]
     },
     "execution_count": 247,
     "metadata": {},
     "output_type": "execute_result"
    }
   ],
   "source": [
    "# One-hot encode city and phone\n",
    "\n",
    "trips_processing = trips_cleaned\n",
    "\n",
    "trips_processing=pd.get_dummies(trips_processing, columns=['phone'], drop_first=True)\n",
    "trips_processing=pd.get_dummies(trips_processing, columns=['city'], drop_first=True)\n",
    "\n",
    "trips_processing=trips_processing.drop(['signup_month', 'last_trip_month', 'rider_tenure','signup_date', 'last_trip_date'], axis=1)\n",
    "\n",
    "\n",
    "trips_processing.head()"
   ]
  },
  {
   "cell_type": "code",
   "execution_count": 249,
   "id": "47900a02",
   "metadata": {},
   "outputs": [
    {
     "name": "stdout",
     "output_type": "stream",
     "text": [
      "<class 'pandas.core.frame.DataFrame'>\n",
      "RangeIndex: 50000 entries, 0 to 49999\n",
      "Data columns (total 12 columns):\n",
      " #   Column                  Non-Null Count  Dtype  \n",
      "---  ------                  --------------  -----  \n",
      " 0   trips_in_first_30_days  50000 non-null  int64  \n",
      " 1   avg_rating_of_driver    50000 non-null  float64\n",
      " 2   avg_surge               50000 non-null  float64\n",
      " 3   surge_pct               50000 non-null  float64\n",
      " 4   ultimate_black_user     50000 non-null  int32  \n",
      " 5   weekday_pct             50000 non-null  float64\n",
      " 6   avg_dist                50000 non-null  float64\n",
      " 7   avg_rating_by_driver    50000 non-null  float64\n",
      " 8   retained                50000 non-null  int32  \n",
      " 9   phone_iPhone            50000 non-null  uint8  \n",
      " 10  city_King's Landing     50000 non-null  uint8  \n",
      " 11  city_Winterfell         50000 non-null  uint8  \n",
      "dtypes: float64(6), int32(2), int64(1), uint8(3)\n",
      "memory usage: 3.2 MB\n"
     ]
    }
   ],
   "source": [
    "trips_processing.info()"
   ]
  },
  {
   "cell_type": "markdown",
   "id": "fe62889b",
   "metadata": {},
   "source": [
    "### Scaling\n",
    "Random Forest is a tree based algorithm so we don't need to rescale the predictors.\n",
    "\n",
    "Distance-based algorithms that use euclidean ditances do need to consider scaling option."
   ]
  },
  {
   "cell_type": "markdown",
   "id": "209e7280",
   "metadata": {},
   "source": [
    "# Test and Train designation"
   ]
  },
  {
   "cell_type": "code",
   "execution_count": 250,
   "id": "7ec91f63",
   "metadata": {},
   "outputs": [
    {
     "name": "stdout",
     "output_type": "stream",
     "text": [
      "(42500, 11)\n",
      "(7500, 11)\n",
      "(42500,)\n",
      "(7500,)\n"
     ]
    }
   ],
   "source": [
    "df=trips_processing\n",
    "\n",
    "X = df.drop('retained', axis=1)\n",
    "y = df['retained']\n",
    "from sklearn.model_selection import train_test_split\n",
    "\n",
    "X_train, X_test, y_train, y_test = train_test_split(X, y, test_size=0.15, random_state=125)\n",
    "print(X_train.shape)\n",
    "print(X_test.shape)\n",
    "print(y_train.shape)\n",
    "print(y_test.shape)"
   ]
  },
  {
   "cell_type": "code",
   "execution_count": 241,
   "id": "53a003bd",
   "metadata": {},
   "outputs": [
    {
     "data": {
      "text/plain": [
       "(50000, 12)"
      ]
     },
     "execution_count": 241,
     "metadata": {},
     "output_type": "execute_result"
    }
   ],
   "source": [
    "df.shape"
   ]
  },
  {
   "cell_type": "code",
   "execution_count": 278,
   "id": "a923354f",
   "metadata": {},
   "outputs": [
    {
     "name": "stdout",
     "output_type": "stream",
     "text": [
      "Random Forest: Accuracy=0.765\n",
      "Random Forest: True pos rate/precision = 0.68\n",
      "Random Forest: Recall=0.68\n",
      "Random Forest: f1-score=0.765\n"
     ]
    }
   ],
   "source": [
    "from sklearn.metrics import precision_recall_curve\n",
    "from sklearn.metrics import f1_score\n",
    "from matplotlib import pyplot\n",
    "from sklearn.metrics import precision_recall_curve\n",
    "from sklearn.metrics import f1_score\n",
    "from sklearn.metrics import classification_report,confusion_matrix,roc_curve,roc_auc_score\n",
    "from sklearn.metrics import accuracy_score,log_loss\n",
    "from matplotlib import pyplot\n",
    "\n",
    "\n",
    "from sklearn.ensemble import RandomForestClassifier\n",
    "clf = RandomForestClassifier(n_estimators=300, random_state = 1,n_jobs=-1)\n",
    "model_rf = clf.fit(X_train, y_train)\n",
    "\n",
    "y_pred = model_res.predict(X_test)\n",
    "\n",
    "ac = accuracy_score(y_test, y_pred)\n",
    "\n",
    "f1 = f1_score(y_test, y_pred, average='weighted')\n",
    "cm = confusion_matrix(y_test, y_pred)\n",
    "\n",
    "true_neg=   cm[0,0]\n",
    "false_neg=  cm[1,0]\n",
    "true_pos=  cm[1,1]\n",
    "false_pos=  cm[0,1]\n",
    "\n",
    "# precision True positive rate\n",
    "precision= true_pos/(false_pos+true_pos)\n",
    "\n",
    "# Recall/ sensitivity\n",
    "recall= true_pos/ (true_pos + false_neg)\n",
    "\n",
    "print('Random Forest: Accuracy=%.3f' % (ac))\n",
    "print( 'Random Forest: True pos rate/precision = %.2f' % (precision))\n",
    "print('Random Forest: Recall=%.2f' % (recall))\n",
    "\n",
    "print('Random Forest: f1-score=%.3f' % (f1))\n"
   ]
  },
  {
   "cell_type": "markdown",
   "id": "48e83818",
   "metadata": {},
   "source": [
    "## Confusion Matrix\n"
   ]
  },
  {
   "cell_type": "code",
   "execution_count": 254,
   "id": "42b4cbf4",
   "metadata": {},
   "outputs": [
    {
     "name": "stdout",
     "output_type": "stream",
     "text": [
      "[[3874  880]\n",
      " [ 883 1863]]\n"
     ]
    }
   ],
   "source": [
    "print(cm)"
   ]
  },
  {
   "cell_type": "markdown",
   "id": "8c1c55be",
   "metadata": {},
   "source": [
    "The model has an overall accuracy of 76% in the test set. 37% of the users in the original data were retained after six omnths.  This is a large enough proportion that we don't need to be concerned with class imbalance.  Also, the error is less than this proportion in the training set so the model isn't simply guessing \"retained\".\n",
    "The recall, precision, and f1 score help us understand the accuracy of a prediction within each class (retained/not retained).  In this case theses meausres are a little less than the overall accuracy.  The model appears to be doing a good job \"out of the box\".\n",
    "\n",
    "\n"
   ]
  },
  {
   "cell_type": "markdown",
   "id": "cd73bab1",
   "metadata": {},
   "source": [
    "### Feature Importance"
   ]
  },
  {
   "cell_type": "code",
   "execution_count": 279,
   "id": "2efd8592",
   "metadata": {},
   "outputs": [
    {
     "name": "stdout",
     "output_type": "stream",
     "text": [
      "11\n"
     ]
    },
    {
     "data": {
      "image/png": "[encoded data removed]",
      "text/plain": [
       "<Figure size 720x720 with 1 Axes>"
      ]
     },
     "metadata": {},
     "output_type": "display_data"
    }
   ],
   "source": [
    "# feature importance plot\n",
    "\n",
    "feature_importance = clf.feature_importances_\n",
    "# make importances relative to max importance\n",
    "feature_importance = 100.0 * (feature_importance / feature_importance.max())[:30]\n",
    "sorted_idx = np.argsort(feature_importance)[:30]\n",
    "\n",
    "pos = np.arange(sorted_idx.shape[0]) + .5\n",
    "print(pos.size)\n",
    "sorted_idx.size\n",
    "plt.figure(figsize=(10,10))\n",
    "plt.barh(pos, feature_importance[sorted_idx], align='center')\n",
    "plt.yticks(pos, X.columns[sorted_idx])\n",
    "plt.xlabel('Relative Importance')\n",
    "plt.title('Variable Importance')\n",
    "plt.show()"
   ]
  },
  {
   "cell_type": "markdown",
   "id": "4a11bf06",
   "metadata": {},
   "source": [
    "## Model Interpretation\n",
    "\n",
    "Avg distance, weekday pct, and surge pct, and trips in the last 30 days are the most important features ifor predicting retention at siz months.\n",
    "\n",
    "I hypothesize that there are three primary categories of drivers: those who use the app to supplement their income, those who use the app as a primary revenue source, and those who are casually using the app.  People could tranition between these categories with time but I suspect the people who are using it as a primary source of income are more commited.\n",
    "\n",
    "Interetingly the rating by driver is more important than the driver's rating. This likely speaks to the quality of the driver's experience. If they are providing low ratings they aren't enjoying themselves and are more likely to transition off of the app or become more passive users.\n",
    "\n",
    "Additional tools for interpretation would be Shapleys to plots to understand the directional importance of features on predicting retention after six months.\n",
    "\n",
    "Based on the important features in predicting retention, if the company is inteerested in minimizing retention they should begin tracking driver satisfaction, managing the experiences of both the passenger and driver.\n",
    "\n",
    "\n",
    "\n"
   ]
  },
  {
   "cell_type": "code",
   "execution_count": null,
   "id": "d106d405",
   "metadata": {},
   "outputs": [],
   "source": []
  }
 ],
 "metadata": {
  "kernelspec": {
   "display_name": "Python 3 (ipykernel)",
   "language": "python",
   "name": "python3"
  },
  "language_info": {
   "codemirror_mode": {
    "name": "ipython",
    "version": 3
   },
   "file_extension": ".py",
   "mimetype": "text/x-python",
   "name": "python",
   "nbconvert_exporter": "python",
   "pygments_lexer": "ipython3",
   "version": "3.9.7"
  }
 },
 "nbformat": 4,
 "nbformat_minor": 5
}
